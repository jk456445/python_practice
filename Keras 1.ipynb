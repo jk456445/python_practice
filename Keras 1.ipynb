{
 "cells": [
  {
   "cell_type": "code",
   "execution_count": 1,
   "id": "e6d7b1e8",
   "metadata": {},
   "outputs": [],
   "source": [
    "import numpy as np\n",
    "from keras.models import Sequential\n",
    "from keras.layers import Dense, Dropout, Activation, Flatten\n",
    "from keras.layers import Convolution2D, MaxPooling2D\n",
    "from keras.utils import np_utils\n",
    "from keras.datasets import mnist\n",
    "from keras import optimizers\n",
    "# from matplotlib import pyplot as plt"
   ]
  },
  {
   "cell_type": "code",
   "execution_count": 2,
   "id": "b7d4f289",
   "metadata": {},
   "outputs": [],
   "source": [
    "def load_data():\n",
    "    (x_train, y_train), (x_test, y_test) = mnist.load_data()\n",
    "    number=10000\n",
    "    x_train = x_train[0:number]\n",
    "    y_train = y_train[0:number]\n",
    "    x_train = x_train.reshape(number, 28*28)\n",
    "    x_test  = x_test.reshape(number, 28*28)\n",
    "    y_train = np_utils.to_categorical(y_train, 10)\n",
    "    y_test = np_utils.to_categorical(y_test, 10)\n",
    "    x_train = x_train/255\n",
    "    x_test = x_test/255\n",
    "    return (x_train, y_train), (x_test, y_test)"
   ]
  },
  {
   "cell_type": "code",
   "execution_count": 3,
   "id": "8df7bb5d",
   "metadata": {},
   "outputs": [
    {
     "name": "stdout",
     "output_type": "stream",
     "text": [
      "Downloading data from https://storage.googleapis.com/tensorflow/tf-keras-datasets/mnist.npz\n",
      "11490434/11490434 [==============================] - 1s 0us/step\n"
     ]
    }
   ],
   "source": [
    "(x_train, y_train), (x_test, y_test) = load_data()"
   ]
  },
  {
   "cell_type": "code",
   "execution_count": 4,
   "id": "19723eb5",
   "metadata": {},
   "outputs": [
    {
     "name": "stdout",
     "output_type": "stream",
     "text": [
      "Epoch 1/20\n"
     ]
    },
    {
     "name": "stderr",
     "output_type": "stream",
     "text": [
      "C:\\Users\\jk456\\anaconda3\\lib\\site-packages\\keras\\optimizers\\optimizer_v2\\gradient_descent.py:108: UserWarning: The `lr` argument is deprecated, use `learning_rate` instead.\n",
      "  super(SGD, self).__init__(name, **kwargs)\n"
     ]
    },
    {
     "name": "stdout",
     "output_type": "stream",
     "text": [
      "100/100 [==============================] - 2s 15ms/step - loss: 0.0908 - accuracy: 0.1068\n",
      "Epoch 2/20\n",
      "100/100 [==============================] - 1s 15ms/step - loss: 0.0900 - accuracy: 0.1142\n",
      "Epoch 3/20\n",
      "100/100 [==============================] - 2s 17ms/step - loss: 0.0900 - accuracy: 0.1141\n",
      "Epoch 4/20\n",
      "100/100 [==============================] - 2s 20ms/step - loss: 0.0900 - accuracy: 0.1147\n",
      "Epoch 5/20\n",
      "100/100 [==============================] - 2s 20ms/step - loss: 0.0900 - accuracy: 0.1189\n",
      "Epoch 6/20\n",
      "100/100 [==============================] - 2s 16ms/step - loss: 0.0900 - accuracy: 0.1160\n",
      "Epoch 7/20\n",
      "100/100 [==============================] - 2s 20ms/step - loss: 0.0900 - accuracy: 0.1173\n",
      "Epoch 8/20\n",
      "100/100 [==============================] - 2s 21ms/step - loss: 0.0900 - accuracy: 0.1186\n",
      "Epoch 9/20\n",
      "100/100 [==============================] - 2s 21ms/step - loss: 0.0899 - accuracy: 0.1190\n",
      "Epoch 10/20\n",
      "100/100 [==============================] - 2s 18ms/step - loss: 0.0899 - accuracy: 0.1157\n",
      "Epoch 11/20\n",
      "100/100 [==============================] - 2s 17ms/step - loss: 0.0899 - accuracy: 0.1171\n",
      "Epoch 12/20\n",
      "100/100 [==============================] - 2s 19ms/step - loss: 0.0899 - accuracy: 0.1163\n",
      "Epoch 13/20\n",
      "100/100 [==============================] - 2s 16ms/step - loss: 0.0899 - accuracy: 0.1270\n",
      "Epoch 14/20\n",
      "100/100 [==============================] - 2s 19ms/step - loss: 0.0899 - accuracy: 0.1162\n",
      "Epoch 15/20\n",
      "100/100 [==============================] - 2s 18ms/step - loss: 0.0899 - accuracy: 0.1260\n",
      "Epoch 16/20\n",
      "100/100 [==============================] - 2s 17ms/step - loss: 0.0899 - accuracy: 0.1197\n",
      "Epoch 17/20\n",
      "100/100 [==============================] - 2s 19ms/step - loss: 0.0899 - accuracy: 0.1212\n",
      "Epoch 18/20\n",
      "100/100 [==============================] - 2s 18ms/step - loss: 0.0899 - accuracy: 0.1229\n",
      "Epoch 19/20\n",
      "100/100 [==============================] - 2s 17ms/step - loss: 0.0899 - accuracy: 0.1292\n",
      "Epoch 20/20\n",
      "100/100 [==============================] - 2s 18ms/step - loss: 0.0899 - accuracy: 0.1260\n"
     ]
    },
    {
     "data": {
      "text/plain": [
       "<keras.callbacks.History at 0x29c995bcfa0>"
      ]
     },
     "execution_count": 4,
     "metadata": {},
     "output_type": "execute_result"
    }
   ],
   "source": [
    "model = Sequential()\n",
    "model.add(Dense(input_dim=28*28, units=633, activation='sigmoid'))\n",
    "model.add(Dense(units=633, activation='sigmoid'))\n",
    "model.add(Dense(units=633, activation='sigmoid'))\n",
    "model.add(Dense(units=10, activation='softmax'))\n",
    "\n",
    "model.compile(loss='mse', optimizer=optimizers.SGD(lr=0.1), metrics=['accuracy'])\n",
    "model.fit(x_train, y_train, batch_size=100, epochs=20)"
   ]
  },
  {
   "cell_type": "code",
   "execution_count": 5,
   "id": "d8d2e2ec",
   "metadata": {},
   "outputs": [
    {
     "name": "stdout",
     "output_type": "stream",
     "text": [
      "313/313 [==============================] - 3s 9ms/step - loss: 0.0899 - accuracy: 0.1137\n"
     ]
    }
   ],
   "source": [
    "result = model.evaluate(x_test, y_test)"
   ]
  },
  {
   "cell_type": "code",
   "execution_count": 7,
   "id": "3042ad3e",
   "metadata": {},
   "outputs": [
    {
     "name": "stdout",
     "output_type": "stream",
     "text": [
      "Test Acc: 0.1137000024318695\n"
     ]
    }
   ],
   "source": [
    "print('Test Acc:',result[1])"
   ]
  },
  {
   "cell_type": "code",
   "execution_count": null,
   "id": "54facfdc",
   "metadata": {},
   "outputs": [],
   "source": []
  }
 ],
 "metadata": {
  "kernelspec": {
   "display_name": "Python 3 (ipykernel)",
   "language": "python",
   "name": "python3"
  },
  "language_info": {
   "codemirror_mode": {
    "name": "ipython",
    "version": 3
   },
   "file_extension": ".py",
   "mimetype": "text/x-python",
   "name": "python",
   "nbconvert_exporter": "python",
   "pygments_lexer": "ipython3",
   "version": "3.9.7"
  }
 },
 "nbformat": 4,
 "nbformat_minor": 5
}
