{
 "cells": [
  {
   "cell_type": "code",
   "execution_count": 1,
   "id": "fe1c49aa",
   "metadata": {},
   "outputs": [],
   "source": [
    "%matplotlib inline\n",
    "import numpy as np\n",
    "import pandas as pd\n",
    "import matplotlib.pyplot as plt"
   ]
  },
  {
   "cell_type": "code",
   "execution_count": 3,
   "id": "72102708",
   "metadata": {},
   "outputs": [],
   "source": [
    "x = np.linspace(0, 5, 100)\n",
    "y =1.2*x +0.8+ 0.5* np.random.randn(100)"
   ]
  },
  {
   "cell_type": "code",
   "execution_count": 4,
   "id": "b786c4e6",
   "metadata": {},
   "outputs": [
    {
     "data": {
      "text/plain": [
       "<matplotlib.collections.PathCollection at 0x1fdaf2ebe50>"
      ]
     },
     "execution_count": 4,
     "metadata": {},
     "output_type": "execute_result"
    },
    {
     "data": {
      "image/png": "[encoded data removed]",
      "text/plain": [
       "<Figure size 432x288 with 1 Axes>"
      ]
     },
     "metadata": {
      "needs_background": "light"
     },
     "output_type": "display_data"
    }
   ],
   "source": [
    "plt.scatter(x, y)"
   ]
  },
  {
   "cell_type": "markdown",
   "id": "64949376",
   "metadata": {},
   "source": [
    "# 標準函數訓練及測試\n",
    "\n",
    "## 把所有資料分成訓練資料、測試資料兩組\n",
    "\n",
    "一般我們想要看算出來的逼近函數在預測上是不是可靠，會把一些資料留給\"測試\"，就是不讓電腦在計算時看到這些測試資料，\n",
    "等函數學成，再來測試準不準確。\n",
    "我們可以用sklearn.model_selection\n",
    "裡的\n",
    "train_test_split\n",
    "來亂數選一定百分比的資料來用"
   ]
  },
  {
   "cell_type": "code",
   "execution_count": 5,
   "id": "8738a9b4",
   "metadata": {},
   "outputs": [],
   "source": [
    "from sklearn.model_selection import train_test_split"
   ]
  },
  {
   "cell_type": "markdown",
   "id": "54dc60fe",
   "metadata": {},
   "source": [
    "現在我們把原來的x,y中的80%給training data，%給testing data"
   ]
  },
  {
   "cell_type": "code",
   "execution_count": 6,
   "id": "1fefce8a",
   "metadata": {},
   "outputs": [],
   "source": [
    "x_train, x_test, y_train, y_test = train_test_split(x, y, test_size=0.2, random_state= 87)\n",
    "#輸入的訓練資料，輸入的測試資料，輸出的訓練資料，輸出的測試資料= train_test_split(x, y, test_size=分割給test的比例，random_state=亂數種子)"
   ]
  },
  {
   "cell_type": "code",
   "execution_count": 8,
   "id": "ed851d21",
   "metadata": {},
   "outputs": [
    {
     "data": {
      "text/plain": [
       "80"
      ]
     },
     "execution_count": 8,
     "metadata": {},
     "output_type": "execute_result"
    }
   ],
   "source": [
    "len(x_train)"
   ]
  },
  {
   "cell_type": "code",
   "execution_count": 9,
   "id": "b815585e",
   "metadata": {},
   "outputs": [
    {
     "data": {
      "text/plain": [
       "array([3.38383838, 2.72727273, 1.86868687, 3.83838384, 1.41414141,\n",
       "       0.05050505, 4.19191919, 4.54545455, 2.82828283, 0.1010101 ,\n",
       "       0.60606061, 4.94949495, 1.36363636, 0.25252525, 3.58585859,\n",
       "       0.85858586, 1.21212121, 3.33333333, 2.62626263, 3.43434343,\n",
       "       3.48484848, 2.77777778, 3.68686869, 0.2020202 , 4.74747475,\n",
       "       4.34343434, 0.65656566, 1.71717172, 1.11111111, 1.51515152,\n",
       "       4.7979798 , 2.17171717, 2.47474747, 1.91919192, 0.90909091,\n",
       "       2.52525253, 3.18181818, 1.06060606, 2.27272727, 4.6969697 ,\n",
       "       2.42424242, 2.67676768, 4.14141414, 3.23232323, 1.56565657,\n",
       "       1.81818182, 3.93939394, 2.37373737, 2.32323232, 0.4040404 ,\n",
       "       3.98989899, 0.50505051, 2.07070707, 4.04040404, 2.87878788,\n",
       "       3.13131313, 4.8989899 , 0.70707071, 4.5959596 , 3.78787879,\n",
       "       1.01010101, 4.44444444, 0.55555556, 1.16161616, 4.49494949,\n",
       "       4.39393939, 2.02020202, 1.76767677, 0.95959596, 3.63636364,\n",
       "       2.12121212, 3.08080808, 3.03030303, 0.45454545, 2.57575758,\n",
       "       4.84848485, 0.3030303 , 0.75757576, 2.97979798, 3.88888889])"
      ]
     },
     "execution_count": 9,
     "metadata": {},
     "output_type": "execute_result"
    }
   ],
   "source": [
    "x_train"
   ]
  },
  {
   "cell_type": "code",
   "execution_count": 11,
   "id": "d69b9e74",
   "metadata": {},
   "outputs": [],
   "source": [
    "x_train= x_train.reshape(80,1)\n",
    "#這樣可以改shape"
   ]
  },
  {
   "cell_type": "code",
   "execution_count": 12,
   "id": "89ecdc44",
   "metadata": {},
   "outputs": [],
   "source": [
    "x_test.shape = (20,1)\n",
    "#這樣也可以改shape"
   ]
  },
  {
   "cell_type": "code",
   "execution_count": 13,
   "id": "00aa2baf",
   "metadata": {},
   "outputs": [
    {
     "data": {
      "text/plain": [
       "array([[0.80808081],\n",
       "       [4.09090909],\n",
       "       [4.29292929],\n",
       "       [1.61616162],\n",
       "       [1.96969697],\n",
       "       [1.26262626],\n",
       "       [1.31313131],\n",
       "       [1.46464646],\n",
       "       [3.28282828],\n",
       "       [0.35353535],\n",
       "       [4.24242424],\n",
       "       [5.        ],\n",
       "       [2.92929293],\n",
       "       [3.53535354],\n",
       "       [4.64646465],\n",
       "       [3.73737374],\n",
       "       [0.15151515],\n",
       "       [0.        ],\n",
       "       [2.22222222],\n",
       "       [1.66666667]])"
      ]
     },
     "execution_count": 13,
     "metadata": {},
     "output_type": "execute_result"
    }
   ],
   "source": [
    "x_test"
   ]
  },
  {
   "cell_type": "code",
   "execution_count": 14,
   "id": "071d35d0",
   "metadata": {},
   "outputs": [],
   "source": [
    "from sklearn.linear_model import LinearRegression"
   ]
  },
  {
   "cell_type": "markdown",
   "id": "81c5a8ea",
   "metadata": {},
   "source": [
    "**用訓練資料來fit函數**\n",
    "<p>\n",
    "記得現在我們只用80%的資料去訓練。\n",
    "<p>\n",
    "用測試資料試試我們預測的準不準"
   ]
  },
  {
   "cell_type": "code",
   "execution_count": 15,
   "id": "6884d9fc",
   "metadata": {},
   "outputs": [],
   "source": [
    "regr=LinearRegression()"
   ]
  },
  {
   "cell_type": "code",
   "execution_count": 18,
   "id": "c30fc878",
   "metadata": {},
   "outputs": [
    {
     "data": {
      "text/plain": [
       "LinearRegression()"
      ]
     },
     "execution_count": 18,
     "metadata": {},
     "output_type": "execute_result"
    }
   ],
   "source": [
    "regr.fit(x_train, y_train)"
   ]
  },
  {
   "cell_type": "code",
   "execution_count": 19,
   "id": "72b62e6e",
   "metadata": {},
   "outputs": [
    {
     "data": {
      "text/plain": [
       "[<matplotlib.lines.Line2D at 0x1fdb2ef4d30>]"
      ]
     },
     "execution_count": 19,
     "metadata": {},
     "output_type": "execute_result"
    },
    {
     "data": {
      "image/png": "[encoded data removed]",
      "text/plain": [
       "<Figure size 432x288 with 1 Axes>"
      ]
     },
     "metadata": {
      "needs_background": "light"
     },
     "output_type": "display_data"
    }
   ],
   "source": [
    "plt.scatter(x_train, y_train)\n",
    "plt.plot(x_train, regr.predict(x_train),color='r')"
   ]
  },
  {
   "cell_type": "code",
   "execution_count": 20,
   "id": "22bd753e",
   "metadata": {},
   "outputs": [
    {
     "data": {
      "text/plain": [
       "[<matplotlib.lines.Line2D at 0x1fdb3412fa0>]"
      ]
     },
     "execution_count": 20,
     "metadata": {},
     "output_type": "execute_result"
    },
    {
     "data": {
      "image/png": "[encoded data removed]",
      "text/plain": [
       "<Figure size 432x288 with 1 Axes>"
      ]
     },
     "metadata": {
      "needs_background": "light"
     },
     "output_type": "display_data"
    }
   ],
   "source": [
    "plt.scatter(x_test, y_test)\n",
    "plt.plot(x_test,regr.predict(x_test), 'r')\n",
    "#拿預測資料試試看"
   ]
  },
  {
   "cell_type": "code",
   "execution_count": null,
   "id": "86c07d58",
   "metadata": {},
   "outputs": [],
   "source": []
  }
 ],
 "metadata": {
  "kernelspec": {
   "display_name": "Python 3 (ipykernel)",
   "language": "python",
   "name": "python3"
  },
  "language_info": {
   "codemirror_mode": {
    "name": "ipython",
    "version": 3
   },
   "file_extension": ".py",
   "mimetype": "text/x-python",
   "name": "python",
   "nbconvert_exporter": "python",
   "pygments_lexer": "ipython3",
   "version": "3.9.7"
  }
 },
 "nbformat": 4,
 "nbformat_minor": 5
}
