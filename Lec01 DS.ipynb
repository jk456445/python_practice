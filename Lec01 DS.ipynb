{
 "cells": [
  {
   "cell_type": "markdown",
   "id": "6b8075d4",
   "metadata": {},
   "source": [
    "# selection sort\n",
    "\n",
    "從小到大排，每次都選出數字裡面最小的數字\n"
   ]
  },
  {
   "cell_type": "markdown",
   "id": "81b988c9",
   "metadata": {},
   "source": [
    "再從剩下的數字裡面再選出最小的，放到已經排好的list的尾巴\n"
   ]
  },
  {
   "cell_type": "markdown",
   "id": "69624786",
   "metadata": {},
   "source": [
    "For(i=0; i<n; i++)\n",
    "{\n",
    "    檢查list[i]到list[n-1]的數字，並把最小的數字設成list[min]\n",
    "}"
   ]
  },
  {
   "cell_type": "markdown",
   "id": "2e7c4b7c",
   "metadata": {},
   "source": [
    "## example\n"
   ]
  },
  {
   "cell_type": "markdown",
   "id": "9119e742",
   "metadata": {},
   "source": [
    "void sort(int list[],int n)\n",
    "{\n",
    "    for (i=0;i<n-1; i++)\n",
    "    {\n",
    "        min=i;  #假設目前要放排序好的數字的list目前在i\n",
    "        for(j=i+1; j<n; j++)\n",
    "        {\n",
    "            if(list[j]<list[min])\n",
    "                min=j; #一開始在0的位置，j會在1，如果1的東西比0小，則把min先改成1，因為其實最小的東西是在1的位置\n",
    "        }\n",
    "        SWAP(list[i],list[min],temp); #因為上面已經把min改成1了，所以這時把0和1的數字交換，就把最小的東西丟到0的位置了\n",
    "    }\n",
    "}"
   ]
  },
  {
   "cell_type": "markdown",
   "id": "11c1f1db",
   "metadata": {},
   "source": []
  },
  {
   "cell_type": "markdown",
   "id": "1781b68c",
   "metadata": {},
   "source": []
  }
 ],
 "metadata": {
  "kernelspec": {
   "display_name": "Python 3 (ipykernel)",
   "language": "python",
   "name": "python3"
  },
  "language_info": {
   "codemirror_mode": {
    "name": "ipython",
    "version": 3
   },
   "file_extension": ".py",
   "mimetype": "text/x-python",
   "name": "python",
   "nbconvert_exporter": "python",
   "pygments_lexer": "ipython3",
   "version": "3.9.7"
  }
 },
 "nbformat": 4,
 "nbformat_minor": 5
}
