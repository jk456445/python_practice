{
 "cells": [
  {
   "cell_type": "code",
   "execution_count": 1,
   "id": "00a8b1ef",
   "metadata": {},
   "outputs": [],
   "source": [
    "import random"
   ]
  },
  {
   "cell_type": "code",
   "execution_count": 2,
   "id": "762fa899",
   "metadata": {},
   "outputs": [
    {
     "name": "stdout",
     "output_type": "stream",
     "text": [
      "/*******************************猜數字遊戲***********************************/    遊戲規則：系統隨機給出1-9的4位數字，您可以輸入您猜測的4位數字，系統會比較並給予反饋，A表示數字對，且位置對，B表示數字對位置不對，如1A2B表示有1位您猜對了數字和位置，有2位您猜對數字，但位置不對。您總共有6次機會，加油哦！\n"
     ]
    }
   ],
   "source": [
    "print(\"/*******************************猜數字遊戲***********************************/ \\\n",
    "   遊戲規則：系統隨機給出1-9的4位數字，您可以輸入您猜測的4位數字，系統會比較並給予反饋，A表示數字對，且位置對，B表示數字對位置不對，如1A2B表示有1位您猜對了數字和位置，有2位您猜對數字，但位置不對。您總共有6次機會，加油哦！\")"
   ]
  },
  {
   "cell_type": "code",
   "execution_count": 3,
   "id": "8084eaa3",
   "metadata": {},
   "outputs": [],
   "source": [
    "total='123456789'"
   ]
  },
  {
   "cell_type": "code",
   "execution_count": 4,
   "id": "478bf958",
   "metadata": {},
   "outputs": [
    {
     "name": "stdout",
     "output_type": "stream",
     "text": [
      "['3', '7', '9', '8']\n"
     ]
    }
   ],
   "source": [
    "answer = random.sample(total,4)\n",
    "print(answer)"
   ]
  },
  {
   "cell_type": "code",
   "execution_count": 6,
   "id": "0302d815",
   "metadata": {},
   "outputs": [
    {
     "name": "stdout",
     "output_type": "stream",
     "text": [
      "請輸入4位1-9不重複的數字4566\n",
      "請輸入4位1-9不重複的數字4587\n",
      "0A2B，您還有5次機會。\n",
      "請輸入4位1-9不重複的數字4444\n",
      "請輸入4位1-9不重複的數字45644\n",
      "您沒有理解遊戲規則，遊戲結束。\n"
     ]
    }
   ],
   "source": [
    "for guesstime in range(6):\n",
    "    guess=\" \"\n",
    "    for inputError in range(3):\n",
    "        guess=input(\"請輸入4位1-9不重複的數字\")\n",
    "        if guess.isdigit()== True and len(guess)==4:\n",
    "            guessSet=set(guess)\n",
    "            if len(guessSet)==4 and guessSet.isdisjoint(set('0')):\n",
    "                break\n",
    "                ##isdisjoint是為了看兩個set有沒有交集，沒有就會顯示true\n",
    "        else:\n",
    "            print(\"您沒有理解遊戲規則，遊戲結束。\")\n",
    "            break\n",
    "             \n",
    "    A=0\n",
    "    B=0\n",
    "    if len(set(guess))==4 and set(guess).isdisjoint(set('0')):\n",
    "        for j in range(4):\n",
    "            if guess[j]==answer[j]:\n",
    "                A+=1\n",
    "            else:\n",
    "                for k in range(4):  #因為會是在不同位置的時候可能數字相同，所以要換成k和j比\n",
    "                    if guess[j]==answer[k]:\n",
    "                        B+=1\n",
    "        if A<4:\n",
    "            if guesstime < 5:\n",
    "                print(\"%dA%dB，您還有%d次機會。\" %(A,B,5-guesstime))\n",
    "            else:\n",
    "                print(\"很遺憾您沒有猜對，答案是%s，再玩一局吧。\" %(answer))   \n",
    "        else:\n",
    "            print(\"恭喜您猜對了！\")\n",
    "            break\n",
    "    else:\n",
    "        break\n"
   ]
  },
  {
   "cell_type": "code",
   "execution_count": null,
   "id": "e6466847",
   "metadata": {},
   "outputs": [],
   "source": []
  },
  {
   "cell_type": "code",
   "execution_count": null,
   "id": "c4cdc147",
   "metadata": {},
   "outputs": [],
   "source": []
  }
 ],
 "metadata": {
  "kernelspec": {
   "display_name": "Python 3 (ipykernel)",
   "language": "python",
   "name": "python3"
  },
  "language_info": {
   "codemirror_mode": {
    "name": "ipython",
    "version": 3
   },
   "file_extension": ".py",
   "mimetype": "text/x-python",
   "name": "python",
   "nbconvert_exporter": "python",
   "pygments_lexer": "ipython3",
   "version": "3.9.12"
  }
 },
 "nbformat": 4,
 "nbformat_minor": 5
}
